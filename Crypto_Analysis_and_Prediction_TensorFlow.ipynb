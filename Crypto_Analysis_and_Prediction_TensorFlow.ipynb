{
 "cells": [
  {
   "cell_type": "code",
   "execution_count": 8,
   "id": "5ee3832e",
   "metadata": {},
   "outputs": [],
   "source": [
    "import pandas as pd\n",
    "import matplotlib.pyplot as plt\n",
    "import numpy as np\n",
    "import datetime as dt\n",
    "import pandas_datareader.data as reader\n",
    "from sklearn.preprocessing import StandardScaler\n",
    "import tensorflow as tf\n",
    "from tensorflow import keras\n",
    "from sklearn.preprocessing import MinMaxScaler\n",
    "from tensorflow.keras.layers import Bidirectional, Dropout, Activation, Dense, LSTM\n",
    "from tensorflow.keras.models import Sequential"
   ]
  },
  {
   "cell_type": "code",
   "execution_count": 9,
   "id": "9440f280",
   "metadata": {},
   "outputs": [],
   "source": [
    "end = dt.datetime.now()\n",
    "start = dt.date(end.year - 8, end.month, end.day)\n",
    "cryptolist = ['AAVE-USD', 'BNB-USD', 'BTC-USD', 'LINK-USD','ADA-USD','ETH-USD', 'SOL-USD', 'USDT-USD', 'UNI1-USD']\n",
    "df = reader.get_data_yahoo(cryptolist, start, end)['Adj Close']\n",
    "\n",
    "end1 = dt.date(end.year - 1, end.month, end.day) #1 years back\n",
    "\n",
    "##changing date accordingly if early half vs late half of the year\n",
    "if (end.month <=6):\n",
    "    end2 = dt.date(end.year-1, 6+end.month, end.day) #6 months back\n",
    "else:\n",
    "    end2 = dt.date(end.year, end.month-6, end.day)\n",
    "    \n",
    "##setting start date to 3 years before the end dates\n",
    "start1 = dt.date(end1.year - 3, end.month, end.day) #3 years before end1\n",
    "\n",
    "#final start and end for future prediction\n",
    "startfinal = dt.date(end.year-3, end.month, end.day) # 3 years before now\n",
    "endfinal = dt.date(end.year, end.month, end.day) #now\n",
    "\n",
    "##getting 3 datasets, df1 and df2 for backtest prediction, while df is for future prediction\n",
    "df1 = reader.get_data_yahoo(cryptolist, start1, end1)['Adj Close']\n",
    "df2 = reader.get_data_yahoo(cryptolist, start1, end2)['Adj Close']\n",
    "df = reader.get_data_yahoo(cryptolist, startfinal, endfinal)['Adj Close']\n"
   ]
  },
  {
   "cell_type": "code",
   "execution_count": 10,
   "id": "47703ef9",
   "metadata": {},
   "outputs": [],
   "source": [
    "##resetting the indexes of the dataset\n",
    "##run this ONLY ONCE\n",
    "\n",
    "df1 = df1.reset_index()\n",
    "df2 = df2.reset_index()\n",
    "df = df.reset_index()"
   ]
  },
  {
   "cell_type": "code",
   "execution_count": 11,
   "id": "9fb3dc7b",
   "metadata": {},
   "outputs": [],
   "source": [
    "df1[['ds', 'y']] = df1[['Date', 'BTC-USD']]"
   ]
  },
  {
   "cell_type": "code",
   "execution_count": 12,
   "id": "1a813c91",
   "metadata": {},
   "outputs": [],
   "source": [
    "df2[['ds', 'y']] = df2[['Date', 'BTC-USD']]\n",
    "df[['ds', 'y']] = df1[['Date', 'BTC-USD']]"
   ]
  },
  {
   "cell_type": "code",
   "execution_count": 25,
   "id": "a7ec558f",
   "metadata": {},
   "outputs": [],
   "source": [
    "##scale all the data from 0 to 1\n",
    "def preparation(data):\n",
    "    crypto_currency = data.iloc[0][1]\n",
    "    scaler = MinMaxScaler()\n",
    "    scaled_data = scaler.fit_transform(data['BTC-USD'].values.reshape(-1,1))\n",
    "    days = 30\n",
    "    prediction_day = 30\n",
    "    x_train, y_train = [], []\n",
    "    for x in range(days,len(data)-prediction_day):\n",
    "        x_train.append(scaled_data[x-days:x,0])\n",
    "        y_train.append(scaled_data[x+prediction_day,0])\n",
    "        \n",
    "    x_train, y_train = np.array(x_train), np.array(y_train)\n",
    "    x_train = np.reshape(x_train, (x_train.shape[0],x_train.shape[1],1))\n",
    "    \n",
    "    ##neural network\n",
    "    model = Sequential()\n",
    "    model.add(LSTM(units=50, return_sequences= True, input_shape = (x_train.shape[1],1)))\n",
    "    model.add(Dropout(0.2))\n",
    "    model.add(LSTM(units =50, return_sequences = True))\n",
    "    model.add(Dropout(0.2))\n",
    "    model.add(LSTM(units=50))\n",
    "    model.add(Dropout(0.2))\n",
    "    model.add(Dense(units =1))\n",
    "    model.compile(optimizer='adam',loss = 'mean_squared_error')\n",
    "    model.fit(x_train, y_train, epochs=25, batch_size = 32)\n",
    "    #testing\n",
    "    test_data = data.iloc[int(len(data)*(3/4)):-1]\n",
    "    actual_prices = test_data['BTC-USD'].values\n",
    "    total_dataset = pd.concat((data['BTC-USD'],test_data['BTC-USD']),axis=0)\n",
    "    model_inputs = total_dataset[len(total_dataset)-len(test_data)-days:].values\n",
    "    model_inputs = model_inputs.reshape(-1,1)\n",
    "    model_inputs = scaler.fit_transform(model_inputs)\n",
    "    x_test = []\n",
    "\n",
    "    for x in range(days, len(model_inputs)):\n",
    "        x_test.append(model_inputs[x-days:x,0])\n",
    "\n",
    "\n",
    "    x_test = np.array(x_test)\n",
    "    x_test = np.reshape(x_test, (x_test.shape[0],x_test.shape[1],1))\n",
    "\n",
    "    predict_prices = model.predict(x_test)\n",
    "    predict_prices = scaler.inverse_transform(predict_prices)\n",
    "    plt.figure(figsize = (25,10))\n",
    "    plt.plot(actual_prices, color = 'black', label = 'Actual Prices')\n",
    "    plt.plot(predict_prices, color = 'blue', label = 'Prediction Prices')\n",
    "    plt.title('BTC price prediction')\n",
    "    plt.xlabel('Days')\n",
    "    plt.ylabel('Price')\n",
    "    plt.legend(loc='upper left')\n",
    "    plt.show()\n",
    "    ##to predict the next month\n",
    "    real_data = [model_inputs[len(model_inputs) - days:len(model_inputs) +1,0]]\n",
    "    real_data = np.array(real_data)\n",
    "    real_data = np.reshape(real_data, (real_data.shape[0], real_data.shape[1],1))\n",
    "    prediction_value = model.predict(real_data)\n",
    "    prediction_value = scaler.inverse_transform(prediction_value)\n",
    "    return (prediction_value)"
   ]
  },
  {
   "cell_type": "code",
   "execution_count": null,
   "id": "038fad53",
   "metadata": {
    "scrolled": false
   },
   "outputs": [
    {
     "name": "stdout",
     "output_type": "stream",
     "text": [
      "Epoch 1/25\n",
      "33/33 [==============================] - 89s 41ms/step - loss: 0.0205\n",
      "Epoch 2/25\n",
      "33/33 [==============================] - 1s 39ms/step - loss: 0.0051\n",
      "Epoch 3/25\n",
      "33/33 [==============================] - 1s 37ms/step - loss: 0.0037\n",
      "Epoch 4/25\n",
      "33/33 [==============================] - 1s 38ms/step - loss: 0.0042\n",
      "Epoch 5/25\n",
      "33/33 [==============================] - 1s 38ms/step - loss: 0.0037\n",
      "Epoch 6/25\n",
      "33/33 [==============================] - 1s 38ms/step - loss: 0.0038\n",
      "Epoch 7/25\n",
      "33/33 [==============================] - 1s 37ms/step - loss: 0.0036\n",
      "Epoch 8/25\n",
      "33/33 [==============================] - 1s 36ms/step - loss: 0.0033\n",
      "Epoch 9/25\n",
      "33/33 [==============================] - 1s 37ms/step - loss: 0.0033\n",
      "Epoch 10/25\n",
      "33/33 [==============================] - 1s 37ms/step - loss: 0.0036\n",
      "Epoch 11/25\n",
      "33/33 [==============================] - 1s 36ms/step - loss: 0.0027\n",
      "Epoch 12/25\n",
      "33/33 [==============================] - 1s 36ms/step - loss: 0.0025\n",
      "Epoch 13/25\n",
      "33/33 [==============================] - 1s 37ms/step - loss: 0.0024\n",
      "Epoch 14/25\n",
      "33/33 [==============================] - 1s 36ms/step - loss: 0.0024\n",
      "Epoch 15/25\n",
      "33/33 [==============================] - 1s 36ms/step - loss: 0.0023\n",
      "Epoch 16/25\n",
      "33/33 [==============================] - 1s 38ms/step - loss: 0.0023\n",
      "Epoch 17/25\n",
      "33/33 [==============================] - 1s 37ms/step - loss: 0.0021\n",
      "Epoch 18/25\n",
      "33/33 [==============================] - 1s 37ms/step - loss: 0.0021\n",
      "Epoch 19/25\n",
      "33/33 [==============================] - 1s 37ms/step - loss: 0.0024\n",
      "Epoch 20/25\n",
      "33/33 [==============================] - 1s 37ms/step - loss: 0.0023\n",
      "Epoch 21/25\n",
      "33/33 [==============================] - 1s 37ms/step - loss: 0.0022\n",
      "Epoch 22/25\n",
      "33/33 [==============================] - 1s 36ms/step - loss: 0.0022\n",
      "Epoch 23/25\n",
      "33/33 [==============================] - 1s 36ms/step - loss: 0.0019\n",
      "Epoch 24/25\n",
      "33/33 [==============================] - 1s 36ms/step - loss: 0.0025\n",
      "Epoch 25/25\n",
      "33/33 [==============================] - 1s 36ms/step - loss: 0.0019\n"
     ]
    }
   ],
   "source": [
    "preparation(df1)\n",
    "#1 year"
   ]
  },
  {
   "cell_type": "code",
   "execution_count": null,
   "id": "da6b5a01",
   "metadata": {},
   "outputs": [],
   "source": [
    "preparation(df2)\n",
    "#6 month"
   ]
  },
  {
   "cell_type": "code",
   "execution_count": null,
   "id": "5dc3948f",
   "metadata": {},
   "outputs": [],
   "source": [
    "preparation(df)\n",
    "#current"
   ]
  },
  {
   "cell_type": "code",
   "execution_count": null,
   "id": "71cf072a",
   "metadata": {},
   "outputs": [],
   "source": []
  },
  {
   "cell_type": "code",
   "execution_count": null,
   "id": "aaccd851",
   "metadata": {},
   "outputs": [],
   "source": []
  }
 ],
 "metadata": {
  "kernelspec": {
   "display_name": "Python 3 (ipykernel)",
   "language": "python",
   "name": "python3"
  },
  "language_info": {
   "codemirror_mode": {
    "name": "ipython",
    "version": 3
   },
   "file_extension": ".py",
   "mimetype": "text/x-python",
   "name": "python",
   "nbconvert_exporter": "python",
   "pygments_lexer": "ipython3",
   "version": "3.9.7"
  }
 },
 "nbformat": 4,
 "nbformat_minor": 5
}
